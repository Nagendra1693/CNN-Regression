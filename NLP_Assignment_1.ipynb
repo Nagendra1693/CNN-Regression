{
  "nbformat": 4,
  "nbformat_minor": 0,
  "metadata": {
    "colab": {
      "name": "NLP Assignment 1.ipynb",
      "provenance": [],
      "collapsed_sections": []
    },
    "kernelspec": {
      "name": "python3",
      "display_name": "Python 3"
    },
    "accelerator": "GPU"
  },
  "cells": [
    {
      "cell_type": "markdown",
      "metadata": {
        "id": "a8UPPWaa5Mad",
        "colab_type": "text"
      },
      "source": [
        "This downloads the file from github"
      ]
    },
    {
      "cell_type": "code",
      "metadata": {
        "id": "cXXR54nc3_zu",
        "colab_type": "code",
        "colab": {}
      },
      "source": [
        "import requests\n",
        "\n",
        "file_link = 'https://raw.githubusercontent.com/ageron/handson-ml/master/datasets/housing/housing.csv'\n",
        "\n",
        "response = requests.get(url = file_link, stream = True)\n",
        "with open('housing.csv', 'wb') as f:\n",
        "  for chunk in response.iter_content(chunk_size = 1024):\n",
        "    f.write(chunk)\n"
      ],
      "execution_count": 0,
      "outputs": []
    },
    {
      "cell_type": "markdown",
      "metadata": {
        "id": "UytdWL0E52hZ",
        "colab_type": "text"
      },
      "source": [
        "This loads the csv file into a pandas dataframe and displays the first 10 rows"
      ]
    },
    {
      "cell_type": "code",
      "metadata": {
        "id": "ULPfGOfa5Krh",
        "colab_type": "code",
        "outputId": "424fe655-6600-4ee3-cb23-577a8c1d4580",
        "colab": {
          "base_uri": "https://localhost:8080/",
          "height": 359
        }
      },
      "source": [
        "import pandas as pd\n",
        "import numpy as np\n",
        "\n",
        "dataset = pd.read_csv('housing.csv')\n",
        "dataset = dataset.dropna()\n",
        "# print(dataset.iloc[:10])\n",
        "dataset.head(n=10)"
      ],
      "execution_count": 22,
      "outputs": [
        {
          "output_type": "execute_result",
          "data": {
            "text/html": [
              "<div>\n",
              "<style scoped>\n",
              "    .dataframe tbody tr th:only-of-type {\n",
              "        vertical-align: middle;\n",
              "    }\n",
              "\n",
              "    .dataframe tbody tr th {\n",
              "        vertical-align: top;\n",
              "    }\n",
              "\n",
              "    .dataframe thead th {\n",
              "        text-align: right;\n",
              "    }\n",
              "</style>\n",
              "<table border=\"1\" class=\"dataframe\">\n",
              "  <thead>\n",
              "    <tr style=\"text-align: right;\">\n",
              "      <th></th>\n",
              "      <th>longitude</th>\n",
              "      <th>latitude</th>\n",
              "      <th>housing_median_age</th>\n",
              "      <th>total_rooms</th>\n",
              "      <th>total_bedrooms</th>\n",
              "      <th>population</th>\n",
              "      <th>households</th>\n",
              "      <th>median_income</th>\n",
              "      <th>median_house_value</th>\n",
              "      <th>ocean_proximity</th>\n",
              "    </tr>\n",
              "  </thead>\n",
              "  <tbody>\n",
              "    <tr>\n",
              "      <th>0</th>\n",
              "      <td>-122.23</td>\n",
              "      <td>37.88</td>\n",
              "      <td>41.0</td>\n",
              "      <td>880.0</td>\n",
              "      <td>129.0</td>\n",
              "      <td>322.0</td>\n",
              "      <td>126.0</td>\n",
              "      <td>8.3252</td>\n",
              "      <td>452600.0</td>\n",
              "      <td>NEAR BAY</td>\n",
              "    </tr>\n",
              "    <tr>\n",
              "      <th>1</th>\n",
              "      <td>-122.22</td>\n",
              "      <td>37.86</td>\n",
              "      <td>21.0</td>\n",
              "      <td>7099.0</td>\n",
              "      <td>1106.0</td>\n",
              "      <td>2401.0</td>\n",
              "      <td>1138.0</td>\n",
              "      <td>8.3014</td>\n",
              "      <td>358500.0</td>\n",
              "      <td>NEAR BAY</td>\n",
              "    </tr>\n",
              "    <tr>\n",
              "      <th>2</th>\n",
              "      <td>-122.24</td>\n",
              "      <td>37.85</td>\n",
              "      <td>52.0</td>\n",
              "      <td>1467.0</td>\n",
              "      <td>190.0</td>\n",
              "      <td>496.0</td>\n",
              "      <td>177.0</td>\n",
              "      <td>7.2574</td>\n",
              "      <td>352100.0</td>\n",
              "      <td>NEAR BAY</td>\n",
              "    </tr>\n",
              "    <tr>\n",
              "      <th>3</th>\n",
              "      <td>-122.25</td>\n",
              "      <td>37.85</td>\n",
              "      <td>52.0</td>\n",
              "      <td>1274.0</td>\n",
              "      <td>235.0</td>\n",
              "      <td>558.0</td>\n",
              "      <td>219.0</td>\n",
              "      <td>5.6431</td>\n",
              "      <td>341300.0</td>\n",
              "      <td>NEAR BAY</td>\n",
              "    </tr>\n",
              "    <tr>\n",
              "      <th>4</th>\n",
              "      <td>-122.25</td>\n",
              "      <td>37.85</td>\n",
              "      <td>52.0</td>\n",
              "      <td>1627.0</td>\n",
              "      <td>280.0</td>\n",
              "      <td>565.0</td>\n",
              "      <td>259.0</td>\n",
              "      <td>3.8462</td>\n",
              "      <td>342200.0</td>\n",
              "      <td>NEAR BAY</td>\n",
              "    </tr>\n",
              "    <tr>\n",
              "      <th>5</th>\n",
              "      <td>-122.25</td>\n",
              "      <td>37.85</td>\n",
              "      <td>52.0</td>\n",
              "      <td>919.0</td>\n",
              "      <td>213.0</td>\n",
              "      <td>413.0</td>\n",
              "      <td>193.0</td>\n",
              "      <td>4.0368</td>\n",
              "      <td>269700.0</td>\n",
              "      <td>NEAR BAY</td>\n",
              "    </tr>\n",
              "    <tr>\n",
              "      <th>6</th>\n",
              "      <td>-122.25</td>\n",
              "      <td>37.84</td>\n",
              "      <td>52.0</td>\n",
              "      <td>2535.0</td>\n",
              "      <td>489.0</td>\n",
              "      <td>1094.0</td>\n",
              "      <td>514.0</td>\n",
              "      <td>3.6591</td>\n",
              "      <td>299200.0</td>\n",
              "      <td>NEAR BAY</td>\n",
              "    </tr>\n",
              "    <tr>\n",
              "      <th>7</th>\n",
              "      <td>-122.25</td>\n",
              "      <td>37.84</td>\n",
              "      <td>52.0</td>\n",
              "      <td>3104.0</td>\n",
              "      <td>687.0</td>\n",
              "      <td>1157.0</td>\n",
              "      <td>647.0</td>\n",
              "      <td>3.1200</td>\n",
              "      <td>241400.0</td>\n",
              "      <td>NEAR BAY</td>\n",
              "    </tr>\n",
              "    <tr>\n",
              "      <th>8</th>\n",
              "      <td>-122.26</td>\n",
              "      <td>37.84</td>\n",
              "      <td>42.0</td>\n",
              "      <td>2555.0</td>\n",
              "      <td>665.0</td>\n",
              "      <td>1206.0</td>\n",
              "      <td>595.0</td>\n",
              "      <td>2.0804</td>\n",
              "      <td>226700.0</td>\n",
              "      <td>NEAR BAY</td>\n",
              "    </tr>\n",
              "    <tr>\n",
              "      <th>9</th>\n",
              "      <td>-122.25</td>\n",
              "      <td>37.84</td>\n",
              "      <td>52.0</td>\n",
              "      <td>3549.0</td>\n",
              "      <td>707.0</td>\n",
              "      <td>1551.0</td>\n",
              "      <td>714.0</td>\n",
              "      <td>3.6912</td>\n",
              "      <td>261100.0</td>\n",
              "      <td>NEAR BAY</td>\n",
              "    </tr>\n",
              "  </tbody>\n",
              "</table>\n",
              "</div>"
            ],
            "text/plain": [
              "   longitude  latitude  ...  median_house_value  ocean_proximity\n",
              "0    -122.23     37.88  ...            452600.0         NEAR BAY\n",
              "1    -122.22     37.86  ...            358500.0         NEAR BAY\n",
              "2    -122.24     37.85  ...            352100.0         NEAR BAY\n",
              "3    -122.25     37.85  ...            341300.0         NEAR BAY\n",
              "4    -122.25     37.85  ...            342200.0         NEAR BAY\n",
              "5    -122.25     37.85  ...            269700.0         NEAR BAY\n",
              "6    -122.25     37.84  ...            299200.0         NEAR BAY\n",
              "7    -122.25     37.84  ...            241400.0         NEAR BAY\n",
              "8    -122.26     37.84  ...            226700.0         NEAR BAY\n",
              "9    -122.25     37.84  ...            261100.0         NEAR BAY\n",
              "\n",
              "[10 rows x 10 columns]"
            ]
          },
          "metadata": {
            "tags": []
          },
          "execution_count": 22
        }
      ]
    },
    {
      "cell_type": "code",
      "metadata": {
        "id": "UlALSVnhDxin",
        "colab_type": "code",
        "outputId": "794a0c9e-41e1-4d6c-d8fe-30125cbf7cf8",
        "colab": {
          "base_uri": "https://localhost:8080/",
          "height": 204
        }
      },
      "source": [
        "columns = dataset.columns\n",
        "print(\"The columns are : \")\n",
        "for c in columns:\n",
        "  print(c)"
      ],
      "execution_count": 24,
      "outputs": [
        {
          "output_type": "stream",
          "text": [
            "The columns are : \n",
            "longitude\n",
            "latitude\n",
            "housing_median_age\n",
            "total_rooms\n",
            "total_bedrooms\n",
            "population\n",
            "households\n",
            "median_income\n",
            "median_house_value\n",
            "ocean_proximity\n"
          ],
          "name": "stdout"
        }
      ]
    },
    {
      "cell_type": "markdown",
      "metadata": {
        "id": "5FuKtLAZCgFC",
        "colab_type": "text"
      },
      "source": [
        "This plots each feature of first 18 rows using subplots in matplotlib."
      ]
    },
    {
      "cell_type": "code",
      "metadata": {
        "id": "eEQQB7NK9eKp",
        "colab_type": "code",
        "outputId": "25a4794c-d58a-4517-ab38-dda89db7af8e",
        "colab": {
          "base_uri": "https://localhost:8080/",
          "height": 276
        }
      },
      "source": [
        "import matplotlib.pyplot as plt\n",
        "\n",
        "\n",
        "num_columns = len(columns) -1\n",
        "fig, sub_plot = plt.subplots(num_columns)\n",
        "\n",
        "x = [i for i in range(1,19)]\n",
        "i = 0 \n",
        "for column in columns[:-1]:\n",
        "  y = dataset[column][:18]\n",
        "  sub_plot[i].plot(x, y, label = column,color=\"rbgkmrbgkm\"[i])\n",
        "  sub_plot[i].legend(loc='best')\n",
        "  i+=1\n",
        "\n",
        "plt.xticks([j*2 for j in range(10)])\n",
        "plt.show()"
      ],
      "execution_count": 25,
      "outputs": [
        {
          "output_type": "display_data",
          "data": {
            "image/png": "[encoded data removed]",
            "text/plain": [
              "<Figure size 432x288 with 9 Axes>"
            ]
          },
          "metadata": {
            "tags": []
          }
        }
      ]
    },
    {
      "cell_type": "code",
      "metadata": {
        "id": "AD72PRZlC0f5",
        "colab_type": "code",
        "colab": {}
      },
      "source": [
        "from sklearn.model_selection import train_test_split\n",
        "\n",
        "Y = dataset['median_house_value']\n",
        "X = dataset.loc[:, 'longitude' : 'median_income']\n",
        "\n",
        "x_train, x_test, y_train, y_test = train_test_split(X,Y, test_size = 0.3, random_state = 2003)"
      ],
      "execution_count": 0,
      "outputs": []
    },
    {
      "cell_type": "code",
      "metadata": {
        "id": "z7cAlYiXDf2o",
        "colab_type": "code",
        "colab": {}
      },
      "source": [
        "x_train_np = x_train.values\n",
        "y_train_np = y_train.values\n",
        "\n",
        "x_test_np = x_test.values\n",
        "y_test_np = y_test.values"
      ],
      "execution_count": 0,
      "outputs": []
    },
    {
      "cell_type": "code",
      "metadata": {
        "id": "8w9D6PtR3SoH",
        "colab_type": "code",
        "outputId": "65022eb6-0c02-41e0-8e29-b56936ce149a",
        "colab": {
          "base_uri": "https://localhost:8080/",
          "height": 51
        }
      },
      "source": [
        "print(x_train_np.shape)\n",
        "print(x_test_np.shape)"
      ],
      "execution_count": 28,
      "outputs": [
        {
          "output_type": "stream",
          "text": [
            "(14303, 8)\n",
            "(6130, 8)\n"
          ],
          "name": "stdout"
        }
      ]
    },
    {
      "cell_type": "code",
      "metadata": {
        "id": "XwHvPAC_DhkO",
        "colab_type": "code",
        "colab": {}
      },
      "source": [
        "import torch\n",
        "from torch.nn import Conv1d, MaxPool1d, Flatten, Linear\n",
        "from torch.nn.functional import relu\n",
        "from torch.utils.data import DataLoader, TensorDataset\n",
        "from torch.optim import SGD,Adamax, Adam\n",
        "from torch.nn import L1Loss\n",
        "!pip install pytorch-ignite\n",
        "from ignite.contrib.metrics.regression.r2_score import R2Score\n",
        "from torch.nn import MSELoss"
      ],
      "execution_count": 0,
      "outputs": []
    },
    {
      "cell_type": "code",
      "metadata": {
        "id": "vNFMuvsAcShS",
        "colab_type": "code",
        "colab": {}
      },
      "source": [
        "# This returns the average L1 loss and R^2 score\n",
        "def model_loss(model, dataset, train = False, optimizer = None):\n",
        "  performance = L1Loss()\n",
        "  score_metric = R2Score()\n",
        "\n",
        "  avg_loss = 0\n",
        "  avg_score = 0\n",
        "  count = 0\n",
        "  for input, output in iter(dataset):\n",
        "    predictions = model.feed(input)\n",
        "    loss = performance(predictions, output)\n",
        "    score_metric._update([predictions, output])\n",
        "    score = score_metric.compute()\n",
        "\n",
        "    if(train):\n",
        "      # Clear any errors so they don't accummulate\n",
        "      optimizer.zero_grad()\n",
        "      # compute the gradients for our optimizer\n",
        "      loss.backward()\n",
        "      # use the optimizer to update the model's based in the gradients\n",
        "      optimizer.step()\n",
        "\n",
        "    avg_loss += loss.item()\n",
        "    avg_score += score\n",
        "    count += 1\n",
        "\n",
        "  return avg_loss / count, avg_score / count"
      ],
      "execution_count": 0,
      "outputs": []
    },
    {
      "cell_type": "code",
      "metadata": {
        "id": "M9JIsOZijw5O",
        "colab_type": "code",
        "colab": {}
      },
      "source": [
        "from torch.nn import Sequential, Conv1d, MaxPool1d, Flatten, Linear, ReLU,Dropout,BatchNorm1d, AvgPool1d\n",
        "class CnnRegressor(torch.nn.Module):\n",
        "  def __init__(self, batch_size, input_size, output_size):\n",
        "    super(CnnRegressor, self).__init__()\n",
        "    self.batch_size = batch_size\n",
        "    self.input_size = input_size\n",
        "    self.output_size = output_size\n",
        "\n",
        "    self.model = Sequential(\n",
        "        Conv1d(8, 64, 1),\n",
        "        ReLU(),\n",
        "        MaxPool1d(1),\n",
        "        \n",
        "        Conv1d(64, 128, 1),\n",
        "        ReLU(),\n",
        "        MaxPool1d(1),\n",
        "\n",
        "        Flatten(),\n",
        "        Linear(128, 64),\n",
        "        ReLU(),\n",
        "\n",
        "        Linear(64, output_size)\n",
        "      )\n",
        "  def feed(self, input):\n",
        "    return self.model(input)\n"
      ],
      "execution_count": 0,
      "outputs": []
    },
    {
      "cell_type": "code",
      "metadata": {
        "id": "VLzdsgLJDmDS",
        "colab_type": "code",
        "outputId": "a5d467a0-3e27-4ebd-8f26-ce169e2dd7d1",
        "colab": {
          "base_uri": "https://localhost:8080/",
          "height": 255
        }
      },
      "source": [
        "batch_size = 64\n",
        "model = CnnRegressor(batch_size, X.shape[1],1)\n",
        "model.cuda()"
      ],
      "execution_count": 32,
      "outputs": [
        {
          "output_type": "execute_result",
          "data": {
            "text/plain": [
              "CnnRegressor(\n",
              "  (model): Sequential(\n",
              "    (0): Conv1d(8, 64, kernel_size=(1,), stride=(1,))\n",
              "    (1): ReLU()\n",
              "    (2): MaxPool1d(kernel_size=1, stride=1, padding=0, dilation=1, ceil_mode=False)\n",
              "    (3): Conv1d(64, 128, kernel_size=(1,), stride=(1,))\n",
              "    (4): ReLU()\n",
              "    (5): MaxPool1d(kernel_size=1, stride=1, padding=0, dilation=1, ceil_mode=False)\n",
              "    (6): Flatten()\n",
              "    (7): Linear(in_features=128, out_features=64, bias=True)\n",
              "    (8): ReLU()\n",
              "    (9): Linear(in_features=64, out_features=1, bias=True)\n",
              "  )\n",
              ")"
            ]
          },
          "metadata": {
            "tags": []
          },
          "execution_count": 32
        }
      ]
    },
    {
      "cell_type": "code",
      "metadata": {
        "id": "naiTbLE2Dpas",
        "colab_type": "code",
        "outputId": "be417ea2-15ab-454d-ab5c-2250eccfa8e5",
        "colab": {
          "base_uri": "https://localhost:8080/",
          "height": 1000
        }
      },
      "source": [
        "from torch.optim import Adam, Adagrad,RMSprop\n",
        "\n",
        "epochs = 100\n",
        "# optimizer = Adagrad(model.parameters(), lr = 1e-3)\n",
        "optimizer = Adam(model.parameters(), lr = 0.002)\n",
        "# optimizer = RMSprop(model.parameters(), lr = 0.03)\n",
        "10031003\n",
        "inputs = torch.from_numpy(x_train_np.reshape(x_train_np.shape[0], x_train_np.shape[1],1)).cuda().float()\n",
        "outputs = torch.from_numpy(y_train_np.reshape(y_train_np.shape[0], 1)).cuda().float()\n",
        "\n",
        "tensor = TensorDataset(inputs, outputs)\n",
        "loader = DataLoader(tensor, batch_size, shuffle=True, drop_last=True)\n",
        "\n",
        "for epoch in range(epochs):\n",
        "  avg_loss, avg_r2_score = model_loss(model, loader, train = True, optimizer = optimizer)\n",
        "  print(\"epoch {}: \\n\\tLoss = {}\\n\\tR^2 Score = {}\".format(epoch+1, avg_loss, avg_r2_score))\n",
        "\n"
      ],
      "execution_count": 33,
      "outputs": [
        {
          "output_type": "stream",
          "text": [
            "epoch 1: \n",
            "\tLoss = 126205.55727998879\n",
            "\tR^2 Score = -1.9685180378170637\n",
            "epoch 2: \n",
            "\tLoss = 83368.03762612108\n",
            "\tR^2 Score = -0.06378617535151608\n",
            "epoch 3: \n",
            "\tLoss = 78156.19137121637\n",
            "\tR^2 Score = 0.20856564924343396\n",
            "epoch 4: \n",
            "\tLoss = 75759.52597743834\n",
            "\tR^2 Score = 0.2645147160391431\n",
            "epoch 5: \n",
            "\tLoss = 73708.54738298767\n",
            "\tR^2 Score = 0.2879866286774255\n",
            "epoch 6: \n",
            "\tLoss = 71584.96155058856\n",
            "\tR^2 Score = 0.3210584600822285\n",
            "epoch 7: \n",
            "\tLoss = 68286.97409262892\n",
            "\tR^2 Score = 0.37151325091634624\n",
            "epoch 8: \n",
            "\tLoss = 66326.52510159754\n",
            "\tR^2 Score = 0.4053979993790625\n",
            "epoch 9: \n",
            "\tLoss = 64057.92888172646\n",
            "\tR^2 Score = 0.44389268731701503\n",
            "epoch 10: \n",
            "\tLoss = 63317.097901485424\n",
            "\tR^2 Score = 0.46137380111491205\n",
            "epoch 11: \n",
            "\tLoss = 61675.836427970855\n",
            "\tR^2 Score = 0.48532645547655207\n",
            "epoch 12: \n",
            "\tLoss = 60396.09919772982\n",
            "\tR^2 Score = 0.48794397717776017\n",
            "epoch 13: \n",
            "\tLoss = 59611.448062640135\n",
            "\tR^2 Score = 0.5055153429826216\n",
            "epoch 14: \n",
            "\tLoss = 58678.94359585202\n",
            "\tR^2 Score = 0.5312245120533801\n",
            "epoch 15: \n",
            "\tLoss = 57493.747197309414\n",
            "\tR^2 Score = 0.5390068295128018\n",
            "epoch 16: \n",
            "\tLoss = 56787.0999334361\n",
            "\tR^2 Score = 0.5510691035861374\n",
            "epoch 17: \n",
            "\tLoss = 55169.56311308857\n",
            "\tR^2 Score = 0.5455467659294887\n",
            "epoch 18: \n",
            "\tLoss = 55092.20158352018\n",
            "\tR^2 Score = 0.5694814301199617\n",
            "epoch 19: \n",
            "\tLoss = 53805.821013172645\n",
            "\tR^2 Score = 0.5951261075954943\n",
            "epoch 20: \n",
            "\tLoss = 54075.314584501124\n",
            "\tR^2 Score = 0.586746207739024\n",
            "epoch 21: \n",
            "\tLoss = 53275.0770389574\n",
            "\tR^2 Score = 0.5813409459110795\n",
            "epoch 22: \n",
            "\tLoss = 53616.486266816144\n",
            "\tR^2 Score = 0.5834618882331064\n",
            "epoch 23: \n",
            "\tLoss = 53438.91961533072\n",
            "\tR^2 Score = 0.5880089317896263\n",
            "epoch 24: \n",
            "\tLoss = 52350.70690863229\n",
            "\tR^2 Score = 0.5937190695819483\n",
            "epoch 25: \n",
            "\tLoss = 52264.609620235424\n",
            "\tR^2 Score = 0.6124260236360782\n",
            "epoch 26: \n",
            "\tLoss = 52758.79815372758\n",
            "\tR^2 Score = 0.5961319930962543\n",
            "epoch 27: \n",
            "\tLoss = 51485.13181404148\n",
            "\tR^2 Score = 0.5956322425031768\n",
            "epoch 28: \n",
            "\tLoss = 52496.58297715807\n",
            "\tR^2 Score = 0.6108272496065558\n",
            "epoch 29: \n",
            "\tLoss = 51860.99483253924\n",
            "\tR^2 Score = 0.5941002166069229\n",
            "epoch 30: \n",
            "\tLoss = 51678.09091227579\n",
            "\tR^2 Score = 0.6172650768850321\n",
            "epoch 31: \n",
            "\tLoss = 51188.74730241032\n",
            "\tR^2 Score = 0.5966347640171178\n",
            "epoch 32: \n",
            "\tLoss = 51265.58479890695\n",
            "\tR^2 Score = 0.6156962057546844\n",
            "epoch 33: \n",
            "\tLoss = 51388.7021440583\n",
            "\tR^2 Score = 0.6223708644423721\n",
            "epoch 34: \n",
            "\tLoss = 51473.428198570626\n",
            "\tR^2 Score = 0.6204621655444543\n",
            "epoch 35: \n",
            "\tLoss = 51269.85928741592\n",
            "\tR^2 Score = 0.626046867121108\n",
            "epoch 36: \n",
            "\tLoss = 50855.844853559414\n",
            "\tR^2 Score = 0.6176669418657417\n",
            "epoch 37: \n",
            "\tLoss = 50751.32831768498\n",
            "\tR^2 Score = 0.617924697627848\n",
            "epoch 38: \n",
            "\tLoss = 50810.59071959081\n",
            "\tR^2 Score = 0.623912295101902\n",
            "epoch 39: \n",
            "\tLoss = 50210.39915568946\n",
            "\tR^2 Score = 0.6327231667765454\n",
            "epoch 40: \n",
            "\tLoss = 49722.6317264574\n",
            "\tR^2 Score = 0.6191806297421502\n",
            "epoch 41: \n",
            "\tLoss = 50999.540674047086\n",
            "\tR^2 Score = 0.6102333124702792\n",
            "epoch 42: \n",
            "\tLoss = 49991.02098514574\n",
            "\tR^2 Score = 0.6259382714398566\n",
            "epoch 43: \n",
            "\tLoss = 49955.957521720855\n",
            "\tR^2 Score = 0.6361973417127212\n",
            "epoch 44: \n",
            "\tLoss = 49889.23138838285\n",
            "\tR^2 Score = 0.6318665301590202\n",
            "epoch 45: \n",
            "\tLoss = 49772.88298766816\n",
            "\tR^2 Score = 0.6369569704785314\n",
            "epoch 46: \n",
            "\tLoss = 50125.53172295404\n",
            "\tR^2 Score = 0.637011174872561\n",
            "epoch 47: \n",
            "\tLoss = 50554.64971622758\n",
            "\tR^2 Score = 0.63323599476881\n",
            "epoch 48: \n",
            "\tLoss = 50158.01436378924\n",
            "\tR^2 Score = 0.6314508209084184\n",
            "epoch 49: \n",
            "\tLoss = 50642.12049817825\n",
            "\tR^2 Score = 0.6028547307917151\n",
            "epoch 50: \n",
            "\tLoss = 50898.697134248876\n",
            "\tR^2 Score = 0.6227813348747422\n",
            "epoch 51: \n",
            "\tLoss = 49081.175676149105\n",
            "\tR^2 Score = 0.6424100054752473\n",
            "epoch 52: \n",
            "\tLoss = 50606.64617783072\n",
            "\tR^2 Score = 0.6375825260147543\n",
            "epoch 53: \n",
            "\tLoss = 49195.20880044843\n",
            "\tR^2 Score = 0.6312370134460508\n",
            "epoch 54: \n",
            "\tLoss = 49222.240102998876\n",
            "\tR^2 Score = 0.6485648168839148\n",
            "epoch 55: \n",
            "\tLoss = 49849.63555388173\n",
            "\tR^2 Score = 0.6204117373875006\n",
            "epoch 56: \n",
            "\tLoss = 49697.237790779145\n",
            "\tR^2 Score = 0.6368159288058614\n",
            "epoch 57: \n",
            "\tLoss = 49657.81649383408\n",
            "\tR^2 Score = 0.6371700731166037\n",
            "epoch 58: \n",
            "\tLoss = 48763.484804162\n",
            "\tR^2 Score = 0.6579273200626508\n",
            "epoch 59: \n",
            "\tLoss = 49371.16180283072\n",
            "\tR^2 Score = 0.6516177242036031\n",
            "epoch 60: \n",
            "\tLoss = 49787.88247968049\n",
            "\tR^2 Score = 0.6178766846559944\n",
            "epoch 61: \n",
            "\tLoss = 48607.3771720852\n",
            "\tR^2 Score = 0.652331027531377\n",
            "epoch 62: \n",
            "\tLoss = 49531.708327494394\n",
            "\tR^2 Score = 0.6619059125662818\n",
            "epoch 63: \n",
            "\tLoss = 49453.17900434417\n",
            "\tR^2 Score = 0.6393125697495906\n",
            "epoch 64: \n",
            "\tLoss = 49596.67040358744\n",
            "\tR^2 Score = 0.6482412480090182\n",
            "epoch 65: \n",
            "\tLoss = 49379.3982272982\n",
            "\tR^2 Score = 0.6425131385154279\n",
            "epoch 66: \n",
            "\tLoss = 48811.22062429933\n",
            "\tR^2 Score = 0.6445797323156671\n",
            "epoch 67: \n",
            "\tLoss = 48631.99486757287\n",
            "\tR^2 Score = 0.6482706296289\n",
            "epoch 68: \n",
            "\tLoss = 49601.65174817825\n",
            "\tR^2 Score = 0.6249376398030771\n",
            "epoch 69: \n",
            "\tLoss = 49157.671244394616\n",
            "\tR^2 Score = 0.6449398610407995\n",
            "epoch 70: \n",
            "\tLoss = 48582.15097743834\n",
            "\tR^2 Score = 0.653541814807476\n",
            "epoch 71: \n",
            "\tLoss = 48868.88894338565\n",
            "\tR^2 Score = 0.6576943191951186\n",
            "epoch 72: \n",
            "\tLoss = 49402.401354049885\n",
            "\tR^2 Score = 0.6320282607041251\n",
            "epoch 73: \n",
            "\tLoss = 48119.04137471973\n",
            "\tR^2 Score = 0.6620543460425039\n",
            "epoch 74: \n",
            "\tLoss = 48894.71552690583\n",
            "\tR^2 Score = 0.6492181374275073\n",
            "epoch 75: \n",
            "\tLoss = 49608.07498948991\n",
            "\tR^2 Score = 0.6315323441961028\n",
            "epoch 76: \n",
            "\tLoss = 48525.414570487665\n",
            "\tR^2 Score = 0.6485894531517399\n",
            "epoch 77: \n",
            "\tLoss = 48374.755062359865\n",
            "\tR^2 Score = 0.6592620139605871\n",
            "epoch 78: \n",
            "\tLoss = 49484.7957889574\n",
            "\tR^2 Score = 0.6448117354153705\n",
            "epoch 79: \n",
            "\tLoss = 48170.26478419283\n",
            "\tR^2 Score = 0.6532061902214702\n",
            "epoch 80: \n",
            "\tLoss = 49438.4593084361\n",
            "\tR^2 Score = 0.6369105351537636\n",
            "epoch 81: \n",
            "\tLoss = 48762.55344380606\n",
            "\tR^2 Score = 0.6482307334773577\n",
            "epoch 82: \n",
            "\tLoss = 48656.10468925168\n",
            "\tR^2 Score = 0.6511320616326767\n",
            "epoch 83: \n",
            "\tLoss = 49812.99968469731\n",
            "\tR^2 Score = 0.6345483911135745\n",
            "epoch 84: \n",
            "\tLoss = 49047.06614349776\n",
            "\tR^2 Score = 0.6480217056111611\n",
            "epoch 85: \n",
            "\tLoss = 48201.88204176009\n",
            "\tR^2 Score = 0.6482129704301118\n",
            "epoch 86: \n",
            "\tLoss = 48218.054258338\n",
            "\tR^2 Score = 0.6658728457845435\n",
            "epoch 87: \n",
            "\tLoss = 48672.74213494955\n",
            "\tR^2 Score = 0.656483202866066\n",
            "epoch 88: \n",
            "\tLoss = 48977.20758302971\n",
            "\tR^2 Score = 0.6446738917761186\n",
            "epoch 89: \n",
            "\tLoss = 48416.884634248876\n",
            "\tR^2 Score = 0.6459626443607408\n",
            "epoch 90: \n",
            "\tLoss = 48344.96736617153\n",
            "\tR^2 Score = 0.655259692350577\n",
            "epoch 91: \n",
            "\tLoss = 48338.18357623318\n",
            "\tR^2 Score = 0.6585488844781731\n",
            "epoch 92: \n",
            "\tLoss = 48019.448062640135\n",
            "\tR^2 Score = 0.6588648176745368\n",
            "epoch 93: \n",
            "\tLoss = 49667.15493623879\n",
            "\tR^2 Score = 0.6470227913585886\n",
            "epoch 94: \n",
            "\tLoss = 48225.94402501401\n",
            "\tR^2 Score = 0.647765303005461\n",
            "epoch 95: \n",
            "\tLoss = 48245.593119394616\n",
            "\tR^2 Score = 0.6594624217770739\n",
            "epoch 96: \n",
            "\tLoss = 48461.23850896861\n",
            "\tR^2 Score = 0.6356908071419061\n",
            "epoch 97: \n",
            "\tLoss = 47817.86310608184\n",
            "\tR^2 Score = 0.6489474936478162\n",
            "epoch 98: \n",
            "\tLoss = 48421.57831768498\n",
            "\tR^2 Score = 0.6659953814715436\n",
            "epoch 99: \n",
            "\tLoss = 48629.51110566143\n",
            "\tR^2 Score = 0.665252064067766\n",
            "epoch 100: \n",
            "\tLoss = 48175.678986827355\n",
            "\tR^2 Score = 0.6518411672373887\n"
          ],
          "name": "stdout"
        }
      ]
    },
    {
      "cell_type": "code",
      "metadata": {
        "id": "HwdQVsyiDq9b",
        "colab_type": "code",
        "outputId": "7862d8f1-337f-46ba-ad2a-941d31e4190b",
        "colab": {
          "base_uri": "https://localhost:8080/",
          "height": 51
        }
      },
      "source": [
        "inputs = torch.from_numpy(x_test_np.reshape(x_test_np.shape[0], x_test_np.shape[1], 1)).cuda().float()\n",
        "outputs = torch.from_numpy(y_test_np.reshape(y_test_np.shape[0], 1)).cuda().float()\n",
        "\n",
        "tensor = TensorDataset(inputs, outputs)\n",
        "loader = DataLoader(tensor, batch_size, shuffle=True, drop_last=True)\n",
        "\n",
        "avg_loss, avg_r2_score = model_loss(model, loader)\n",
        "print(\"The model's L1 loss is : \", avg_loss)\n",
        "print(\"The model's R^2 score is: \", avg_r2_score)"
      ],
      "execution_count": 34,
      "outputs": [
        {
          "output_type": "stream",
          "text": [
            "The model's L1 loss is :  49164.89749177632\n",
            "The model's R^2 score is:  0.646648566237782\n"
          ],
          "name": "stdout"
        }
      ]
    },
    {
      "cell_type": "markdown",
      "metadata": {
        "id": "aOCUyqXgpuDa",
        "colab_type": "text"
      },
      "source": [
        "Saving the model"
      ]
    },
    {
      "cell_type": "code",
      "metadata": {
        "id": "Ae5NPx7WMWVP",
        "colab_type": "code",
        "outputId": "2dac1ae6-e043-41f2-c5aa-2d75e0056200",
        "colab": {
          "base_uri": "https://localhost:8080/",
          "height": 51
        }
      },
      "source": [
        "torch.save(model, '1093805_1dconv_reg')"
      ],
      "execution_count": 35,
      "outputs": [
        {
          "output_type": "stream",
          "text": [
            "/usr/local/lib/python3.6/dist-packages/torch/serialization.py:360: UserWarning: Couldn't retrieve source code for container of type CnnRegressor. It won't be checked for correctness upon loading.\n",
            "  \"type \" + obj.__name__ + \". It won't be checked \"\n"
          ],
          "name": "stderr"
        }
      ]
    },
    {
      "cell_type": "markdown",
      "metadata": {
        "id": "dXo6k2KTpwWI",
        "colab_type": "text"
      },
      "source": [
        "Loading the saved model"
      ]
    },
    {
      "cell_type": "code",
      "metadata": {
        "id": "vhxg6Q2kp0EZ",
        "colab_type": "code",
        "colab": {}
      },
      "source": [
        "saved_model = torch.load('1093805_1dconv_reg')"
      ],
      "execution_count": 0,
      "outputs": []
    },
    {
      "cell_type": "code",
      "metadata": {
        "id": "vxttHUfTAkfe",
        "colab_type": "code",
        "outputId": "5ac70e56-eb85-412e-9080-eda30f68fcb8",
        "colab": {
          "base_uri": "https://localhost:8080/",
          "height": 51
        }
      },
      "source": [
        "inputs = torch.from_numpy(x_test_np.reshape(x_test_np.shape[0], x_test_np.shape[1], 1)).cuda().float()\n",
        "outputs = torch.from_numpy(y_test_np.reshape(y_test_np.shape[0], 1)).cuda().float()\n",
        "\n",
        "tensor = TensorDataset(inputs, outputs)\n",
        "loader = DataLoader(tensor, batch_size, shuffle=True, drop_last=True)\n",
        "\n",
        "avg_loss, avg_r2_score = model_loss(saved_model, loader)\n",
        "print(\"The model's L1 loss is : \", avg_loss)\n",
        "print(\"The model's R^2 score is: \", avg_r2_score)"
      ],
      "execution_count": 38,
      "outputs": [
        {
          "output_type": "stream",
          "text": [
            "The model's L1 loss is :  49221.88865131579\n",
            "The model's R^2 score is:  0.6324103303217471\n"
          ],
          "name": "stdout"
        }
      ]
    }
  ]
}